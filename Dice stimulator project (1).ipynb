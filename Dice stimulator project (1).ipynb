{
 "cells": [
  {
   "cell_type": "code",
   "execution_count": 1,
   "id": "331f7f89",
   "metadata": {},
   "outputs": [
    {
     "name": "stdout",
     "output_type": "stream",
     "text": [
      "dice: 5\n",
      "sides: 3\n",
      "[3, 2, 1]\n"
     ]
    }
   ],
   "source": [
    "import random\n",
    "\n",
    "dice = int(input(\"dice: \"))\n",
    " \n",
    "if(dice<=0):\n",
    "    print(\"must have a valid number!\")\n",
    "    end()\n",
    "\n",
    "sides = int(input(\"sides: \"))\n",
    "\n",
    "if(sides<=0):\n",
    "    print(\"must have a valid number!\")\n",
    "    end()\n",
    "    \n",
    "random.randint(1,sides)\n",
    "\n",
    "roll = []\n",
    "\n",
    "for i in range (0,sides):\n",
    "    face = random.randint(1,sides)\n",
    "    roll.append(face)\n",
    "    \n",
    "print(roll)\n",
    "    "
   ]
  },
  {
   "cell_type": "code",
   "execution_count": 2,
   "id": "bffb957d",
   "metadata": {},
   "outputs": [
    {
     "name": "stdout",
     "output_type": "stream",
     "text": [
      "dice: 4\n",
      "sides: 5\n",
      "[4, 4, 4, 4, 4]\n"
     ]
    }
   ],
   "source": [
    "import random\n",
    "\n",
    "def dice_roll(dice,sides):\n",
    "    roll = []\n",
    "    \n",
    "    for i in range(1,6):\n",
    "        random.randint(1,sides)\n",
    "        roll.append(dice)  #where the chance of occuring dice number will be more\n",
    "        \n",
    "    return roll\n",
    "    \n",
    "\n",
    "dice = int(input(\"dice: \"))\n",
    " \n",
    "if(dice<=0):\n",
    "    print(\"must have a valid number!\")\n",
    "    end()\n",
    "\n",
    "sides = int(input(\"sides: \"))\n",
    "\n",
    "if(sides<=0):\n",
    "    print(\"must have a valid number!\")\n",
    "    end()\n",
    "\n",
    "roll = dice_roll(dice,sides)\n",
    "    \n",
    "print(roll)"
   ]
  },
  {
   "cell_type": "code",
   "execution_count": null,
   "id": "7de66bae",
   "metadata": {},
   "outputs": [],
   "source": []
  },
  {
   "cell_type": "code",
   "execution_count": null,
   "id": "2a109ac1",
   "metadata": {},
   "outputs": [],
   "source": []
  }
 ],
 "metadata": {
  "kernelspec": {
   "display_name": "Python 3 (ipykernel)",
   "language": "python",
   "name": "python3"
  },
  "language_info": {
   "codemirror_mode": {
    "name": "ipython",
    "version": 3
   },
   "file_extension": ".py",
   "mimetype": "text/x-python",
   "name": "python",
   "nbconvert_exporter": "python",
   "pygments_lexer": "ipython3",
   "version": "3.11.5"
  }
 },
 "nbformat": 4,
 "nbformat_minor": 5
}
